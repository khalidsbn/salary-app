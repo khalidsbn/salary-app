{
 "cells": [
  {
   "cell_type": "code",
   "execution_count": 40,
   "id": "8256f494",
   "metadata": {},
   "outputs": [],
   "source": [
    "import pandas as pd\n",
    "import numpy as np\n",
    "import pickle\n",
    "import matplotlib.pyplot as plt\n",
    "\n",
    "from sklearn.metrics import mean_squared_error, mean_absolute_error\n",
    "from sklearn.preprocessing import LabelEncoder\n",
    "from sklearn.linear_model import LinearRegression\n",
    "from sklearn.tree import DecisionTreeRegressor\n",
    "from sklearn.ensemble import RandomForestRegressor\n",
    "\n",
    "\n",
    "import warnings\n",
    "warnings.filterwarnings('ignore')"
   ]
  },
  {
   "cell_type": "code",
   "execution_count": 41,
   "id": "f2630009",
   "metadata": {},
   "outputs": [],
   "source": [
    "df = pd.read_csv('../data/survey_results_public.csv')"
   ]
  },
  {
   "cell_type": "markdown",
   "id": "b42c33e9",
   "metadata": {},
   "source": [
    "# Processing"
   ]
  },
  {
   "cell_type": "code",
   "execution_count": 42,
   "id": "955a94ac",
   "metadata": {},
   "outputs": [
    {
     "data": {
      "text/html": [
       "<div>\n",
       "<style scoped>\n",
       "    .dataframe tbody tr th:only-of-type {\n",
       "        vertical-align: middle;\n",
       "    }\n",
       "\n",
       "    .dataframe tbody tr th {\n",
       "        vertical-align: top;\n",
       "    }\n",
       "\n",
       "    .dataframe thead th {\n",
       "        text-align: right;\n",
       "    }\n",
       "</style>\n",
       "<table border=\"1\" class=\"dataframe\">\n",
       "  <thead>\n",
       "    <tr style=\"text-align: right;\">\n",
       "      <th></th>\n",
       "      <th>ResponseId</th>\n",
       "      <th>Q120</th>\n",
       "      <th>MainBranch</th>\n",
       "      <th>Age</th>\n",
       "      <th>Employment</th>\n",
       "      <th>RemoteWork</th>\n",
       "      <th>CodingActivities</th>\n",
       "      <th>EdLevel</th>\n",
       "      <th>LearnCode</th>\n",
       "      <th>LearnCodeOnline</th>\n",
       "      <th>...</th>\n",
       "      <th>Frequency_1</th>\n",
       "      <th>Frequency_2</th>\n",
       "      <th>Frequency_3</th>\n",
       "      <th>TimeSearching</th>\n",
       "      <th>TimeAnswering</th>\n",
       "      <th>ProfessionalTech</th>\n",
       "      <th>Industry</th>\n",
       "      <th>SurveyLength</th>\n",
       "      <th>SurveyEase</th>\n",
       "      <th>ConvertedCompYearly</th>\n",
       "    </tr>\n",
       "  </thead>\n",
       "  <tbody>\n",
       "    <tr>\n",
       "      <th>0</th>\n",
       "      <td>1</td>\n",
       "      <td>I agree</td>\n",
       "      <td>None of these</td>\n",
       "      <td>18-24 years old</td>\n",
       "      <td>NaN</td>\n",
       "      <td>NaN</td>\n",
       "      <td>NaN</td>\n",
       "      <td>NaN</td>\n",
       "      <td>NaN</td>\n",
       "      <td>NaN</td>\n",
       "      <td>...</td>\n",
       "      <td>NaN</td>\n",
       "      <td>NaN</td>\n",
       "      <td>NaN</td>\n",
       "      <td>NaN</td>\n",
       "      <td>NaN</td>\n",
       "      <td>NaN</td>\n",
       "      <td>NaN</td>\n",
       "      <td>NaN</td>\n",
       "      <td>NaN</td>\n",
       "      <td>NaN</td>\n",
       "    </tr>\n",
       "    <tr>\n",
       "      <th>1</th>\n",
       "      <td>2</td>\n",
       "      <td>I agree</td>\n",
       "      <td>I am a developer by profession</td>\n",
       "      <td>25-34 years old</td>\n",
       "      <td>Employed, full-time</td>\n",
       "      <td>Remote</td>\n",
       "      <td>Hobby;Contribute to open-source projects;Boots...</td>\n",
       "      <td>Bachelor’s degree (B.A., B.S., B.Eng., etc.)</td>\n",
       "      <td>Books / Physical media;Colleague;Friend or fam...</td>\n",
       "      <td>Formal documentation provided by the owner of ...</td>\n",
       "      <td>...</td>\n",
       "      <td>1-2 times a week</td>\n",
       "      <td>10+ times a week</td>\n",
       "      <td>Never</td>\n",
       "      <td>15-30 minutes a day</td>\n",
       "      <td>15-30 minutes a day</td>\n",
       "      <td>DevOps function;Microservices;Automated testin...</td>\n",
       "      <td>Information Services, IT, Software Development...</td>\n",
       "      <td>Appropriate in length</td>\n",
       "      <td>Easy</td>\n",
       "      <td>285000.0</td>\n",
       "    </tr>\n",
       "    <tr>\n",
       "      <th>2</th>\n",
       "      <td>3</td>\n",
       "      <td>I agree</td>\n",
       "      <td>I am a developer by profession</td>\n",
       "      <td>45-54 years old</td>\n",
       "      <td>Employed, full-time</td>\n",
       "      <td>Hybrid (some remote, some in-person)</td>\n",
       "      <td>Hobby;Professional development or self-paced l...</td>\n",
       "      <td>Bachelor’s degree (B.A., B.S., B.Eng., etc.)</td>\n",
       "      <td>Books / Physical media;Colleague;On the job tr...</td>\n",
       "      <td>Formal documentation provided by the owner of ...</td>\n",
       "      <td>...</td>\n",
       "      <td>6-10 times a week</td>\n",
       "      <td>6-10 times a week</td>\n",
       "      <td>3-5 times a week</td>\n",
       "      <td>30-60 minutes a day</td>\n",
       "      <td>30-60 minutes a day</td>\n",
       "      <td>DevOps function;Microservices;Automated testin...</td>\n",
       "      <td>Information Services, IT, Software Development...</td>\n",
       "      <td>Appropriate in length</td>\n",
       "      <td>Easy</td>\n",
       "      <td>250000.0</td>\n",
       "    </tr>\n",
       "  </tbody>\n",
       "</table>\n",
       "<p>3 rows × 84 columns</p>\n",
       "</div>"
      ],
      "text/plain": [
       "   ResponseId     Q120                      MainBranch              Age  \\\n",
       "0           1  I agree                   None of these  18-24 years old   \n",
       "1           2  I agree  I am a developer by profession  25-34 years old   \n",
       "2           3  I agree  I am a developer by profession  45-54 years old   \n",
       "\n",
       "            Employment                            RemoteWork  \\\n",
       "0                  NaN                                   NaN   \n",
       "1  Employed, full-time                                Remote   \n",
       "2  Employed, full-time  Hybrid (some remote, some in-person)   \n",
       "\n",
       "                                    CodingActivities  \\\n",
       "0                                                NaN   \n",
       "1  Hobby;Contribute to open-source projects;Boots...   \n",
       "2  Hobby;Professional development or self-paced l...   \n",
       "\n",
       "                                        EdLevel  \\\n",
       "0                                           NaN   \n",
       "1  Bachelor’s degree (B.A., B.S., B.Eng., etc.)   \n",
       "2  Bachelor’s degree (B.A., B.S., B.Eng., etc.)   \n",
       "\n",
       "                                           LearnCode  \\\n",
       "0                                                NaN   \n",
       "1  Books / Physical media;Colleague;Friend or fam...   \n",
       "2  Books / Physical media;Colleague;On the job tr...   \n",
       "\n",
       "                                     LearnCodeOnline  ...        Frequency_1  \\\n",
       "0                                                NaN  ...                NaN   \n",
       "1  Formal documentation provided by the owner of ...  ...   1-2 times a week   \n",
       "2  Formal documentation provided by the owner of ...  ...  6-10 times a week   \n",
       "\n",
       "         Frequency_2       Frequency_3        TimeSearching  \\\n",
       "0                NaN               NaN                  NaN   \n",
       "1   10+ times a week             Never  15-30 minutes a day   \n",
       "2  6-10 times a week  3-5 times a week  30-60 minutes a day   \n",
       "\n",
       "         TimeAnswering                                   ProfessionalTech  \\\n",
       "0                  NaN                                                NaN   \n",
       "1  15-30 minutes a day  DevOps function;Microservices;Automated testin...   \n",
       "2  30-60 minutes a day  DevOps function;Microservices;Automated testin...   \n",
       "\n",
       "                                            Industry           SurveyLength  \\\n",
       "0                                                NaN                    NaN   \n",
       "1  Information Services, IT, Software Development...  Appropriate in length   \n",
       "2  Information Services, IT, Software Development...  Appropriate in length   \n",
       "\n",
       "  SurveyEase ConvertedCompYearly  \n",
       "0        NaN                 NaN  \n",
       "1       Easy            285000.0  \n",
       "2       Easy            250000.0  \n",
       "\n",
       "[3 rows x 84 columns]"
      ]
     },
     "execution_count": 42,
     "metadata": {},
     "output_type": "execute_result"
    }
   ],
   "source": [
    "df.head(3)"
   ]
  },
  {
   "cell_type": "code",
   "execution_count": 43,
   "id": "5f1626fc",
   "metadata": {},
   "outputs": [],
   "source": [
    "df = df[['Age', 'RemoteWork', 'EdLevel', 'YearsCodePro', 'Country', 'Industry', 'Employment', 'ConvertedCompYearly']]\n",
    "\n",
    "df = df.rename({'ConvertedCompYearly': 'Salary'}, axis=1)\n",
    "\n",
    "df = df[df[\"Salary\"].notnull()]"
   ]
  },
  {
   "cell_type": "code",
   "execution_count": 44,
   "id": "e9f60141",
   "metadata": {},
   "outputs": [
    {
     "name": "stdout",
     "output_type": "stream",
     "text": [
      "<class 'pandas.core.frame.DataFrame'>\n",
      "Index: 48019 entries, 1 to 89171\n",
      "Data columns (total 8 columns):\n",
      " #   Column        Non-Null Count  Dtype  \n",
      "---  ------        --------------  -----  \n",
      " 0   Age           48019 non-null  object \n",
      " 1   RemoteWork    47940 non-null  object \n",
      " 2   EdLevel       48019 non-null  object \n",
      " 3   YearsCodePro  47825 non-null  object \n",
      " 4   Country       48019 non-null  object \n",
      " 5   Industry      27747 non-null  object \n",
      " 6   Employment    48007 non-null  object \n",
      " 7   Salary        48019 non-null  float64\n",
      "dtypes: float64(1), object(7)\n",
      "memory usage: 3.3+ MB\n"
     ]
    }
   ],
   "source": [
    "df.info()"
   ]
  },
  {
   "cell_type": "code",
   "execution_count": 45,
   "id": "83930879",
   "metadata": {},
   "outputs": [
    {
     "data": {
      "text/html": [
       "<div>\n",
       "<style scoped>\n",
       "    .dataframe tbody tr th:only-of-type {\n",
       "        vertical-align: middle;\n",
       "    }\n",
       "\n",
       "    .dataframe tbody tr th {\n",
       "        vertical-align: top;\n",
       "    }\n",
       "\n",
       "    .dataframe thead th {\n",
       "        text-align: right;\n",
       "    }\n",
       "</style>\n",
       "<table border=\"1\" class=\"dataframe\">\n",
       "  <thead>\n",
       "    <tr style=\"text-align: right;\">\n",
       "      <th></th>\n",
       "      <th>Age</th>\n",
       "      <th>RemoteWork</th>\n",
       "      <th>EdLevel</th>\n",
       "      <th>YearsCodePro</th>\n",
       "      <th>Country</th>\n",
       "      <th>Industry</th>\n",
       "      <th>Employment</th>\n",
       "      <th>Salary</th>\n",
       "    </tr>\n",
       "  </thead>\n",
       "  <tbody>\n",
       "    <tr>\n",
       "      <th>15885</th>\n",
       "      <td>35-44 years old</td>\n",
       "      <td>Hybrid (some remote, some in-person)</td>\n",
       "      <td>Bachelor’s degree (B.A., B.S., B.Eng., etc.)</td>\n",
       "      <td>17</td>\n",
       "      <td>Israel</td>\n",
       "      <td>Advertising Services</td>\n",
       "      <td>Employed, full-time</td>\n",
       "      <td>257123.0</td>\n",
       "    </tr>\n",
       "    <tr>\n",
       "      <th>71662</th>\n",
       "      <td>35-44 years old</td>\n",
       "      <td>In-person</td>\n",
       "      <td>Some college/university study without earning ...</td>\n",
       "      <td>4</td>\n",
       "      <td>United States of America</td>\n",
       "      <td>Retail and Consumer Services</td>\n",
       "      <td>Employed, full-time</td>\n",
       "      <td>65000.0</td>\n",
       "    </tr>\n",
       "    <tr>\n",
       "      <th>14278</th>\n",
       "      <td>Under 18 years old</td>\n",
       "      <td>Remote</td>\n",
       "      <td>Some college/university study without earning ...</td>\n",
       "      <td>2</td>\n",
       "      <td>Russian Federation</td>\n",
       "      <td>Information Services, IT, Software Development...</td>\n",
       "      <td>Employed, full-time</td>\n",
       "      <td>24000.0</td>\n",
       "    </tr>\n",
       "    <tr>\n",
       "      <th>78819</th>\n",
       "      <td>25-34 years old</td>\n",
       "      <td>Hybrid (some remote, some in-person)</td>\n",
       "      <td>Bachelor’s degree (B.A., B.S., B.Eng., etc.)</td>\n",
       "      <td>5</td>\n",
       "      <td>India</td>\n",
       "      <td>Information Services, IT, Software Development...</td>\n",
       "      <td>Employed, full-time</td>\n",
       "      <td>16358.0</td>\n",
       "    </tr>\n",
       "    <tr>\n",
       "      <th>18482</th>\n",
       "      <td>45-54 years old</td>\n",
       "      <td>Remote</td>\n",
       "      <td>Master’s degree (M.A., M.S., M.Eng., MBA, etc.)</td>\n",
       "      <td>15</td>\n",
       "      <td>Belgium</td>\n",
       "      <td>Information Services, IT, Software Development...</td>\n",
       "      <td>Independent contractor, freelancer, or self-em...</td>\n",
       "      <td>128507.0</td>\n",
       "    </tr>\n",
       "  </tbody>\n",
       "</table>\n",
       "</div>"
      ],
      "text/plain": [
       "                      Age                            RemoteWork  \\\n",
       "15885     35-44 years old  Hybrid (some remote, some in-person)   \n",
       "71662     35-44 years old                             In-person   \n",
       "14278  Under 18 years old                                Remote   \n",
       "78819     25-34 years old  Hybrid (some remote, some in-person)   \n",
       "18482     45-54 years old                                Remote   \n",
       "\n",
       "                                                 EdLevel YearsCodePro  \\\n",
       "15885       Bachelor’s degree (B.A., B.S., B.Eng., etc.)           17   \n",
       "71662  Some college/university study without earning ...            4   \n",
       "14278  Some college/university study without earning ...            2   \n",
       "78819       Bachelor’s degree (B.A., B.S., B.Eng., etc.)            5   \n",
       "18482    Master’s degree (M.A., M.S., M.Eng., MBA, etc.)           15   \n",
       "\n",
       "                        Country  \\\n",
       "15885                    Israel   \n",
       "71662  United States of America   \n",
       "14278        Russian Federation   \n",
       "78819                     India   \n",
       "18482                   Belgium   \n",
       "\n",
       "                                                Industry  \\\n",
       "15885                               Advertising Services   \n",
       "71662                       Retail and Consumer Services   \n",
       "14278  Information Services, IT, Software Development...   \n",
       "78819  Information Services, IT, Software Development...   \n",
       "18482  Information Services, IT, Software Development...   \n",
       "\n",
       "                                              Employment    Salary  \n",
       "15885                                Employed, full-time  257123.0  \n",
       "71662                                Employed, full-time   65000.0  \n",
       "14278                                Employed, full-time   24000.0  \n",
       "78819                                Employed, full-time   16358.0  \n",
       "18482  Independent contractor, freelancer, or self-em...  128507.0  "
      ]
     },
     "execution_count": 45,
     "metadata": {},
     "output_type": "execute_result"
    }
   ],
   "source": [
    "df = df.dropna()\n",
    "\n",
    "df.sample(5)"
   ]
  },
  {
   "cell_type": "code",
   "execution_count": 46,
   "id": "52f1616a",
   "metadata": {},
   "outputs": [
    {
     "name": "stdout",
     "output_type": "stream",
     "text": [
      "<class 'pandas.core.frame.DataFrame'>\n",
      "Index: 23510 entries, 1 to 89171\n",
      "Data columns (total 7 columns):\n",
      " #   Column        Non-Null Count  Dtype  \n",
      "---  ------        --------------  -----  \n",
      " 0   Age           23510 non-null  object \n",
      " 1   RemoteWork    23510 non-null  object \n",
      " 2   EdLevel       23510 non-null  object \n",
      " 3   YearsCodePro  23510 non-null  object \n",
      " 4   Country       23510 non-null  object \n",
      " 5   Industry      23510 non-null  object \n",
      " 6   Salary        23510 non-null  float64\n",
      "dtypes: float64(1), object(6)\n",
      "memory usage: 1.4+ MB\n"
     ]
    }
   ],
   "source": [
    "df = df[df['Employment'] == 'Employed, full-time']\n",
    "\n",
    "df = df.drop('Employment', axis=1)\n",
    "\n",
    "df.info()"
   ]
  },
  {
   "cell_type": "code",
   "execution_count": 47,
   "id": "e7699bae",
   "metadata": {},
   "outputs": [
    {
     "data": {
      "text/plain": [
       "(23510, 7)"
      ]
     },
     "execution_count": 47,
     "metadata": {},
     "output_type": "execute_result"
    }
   ],
   "source": [
    "df.shape"
   ]
  },
  {
   "cell_type": "code",
   "execution_count": 48,
   "id": "abb15d4e",
   "metadata": {},
   "outputs": [],
   "source": [
    "def shorten_categories(categories, cutoff):\n",
    "    categorical_map = {}\n",
    "    for i in range(len(categories)):\n",
    "        if categories.values[i] >= cutoff:\n",
    "            categorical_map[categories.index[i]] = categories.index[i]\n",
    "        else:\n",
    "            categorical_map[categories.index[i]] = 'Other'\n",
    "    return categorical_map\n",
    "\n",
    "country_map = shorten_categories(df.Country.value_counts(), 200)\n",
    "df['Country'] = df['Country'].map(country_map)\n",
    "#df.Country.value_counts()"
   ]
  },
  {
   "cell_type": "code",
   "execution_count": 49,
   "id": "687573f2",
   "metadata": {},
   "outputs": [],
   "source": [
    "df['Country'] = df['Country'].replace({\n",
    "    'United States of America': 'United States',\n",
    "    'United Kingdom of Great Britain and Northern Ireland': 'United Kingdom',\n",
    "    'Russian Federation': 'Russian'\n",
    "})"
   ]
  },
  {
   "cell_type": "code",
   "execution_count": 50,
   "id": "7e25fdfa",
   "metadata": {},
   "outputs": [
    {
     "data": {
      "text/plain": [
       "Country\n",
       "United States     6175\n",
       "Other             4896\n",
       "Germany           1934\n",
       "United Kingdom    1768\n",
       "India             1194\n",
       "Canada            1057\n",
       "France             798\n",
       "Brazil             624\n",
       "Netherlands        571\n",
       "Spain              557\n",
       "Australia          551\n",
       "Italy              518\n",
       "Poland             467\n",
       "Sweden             466\n",
       "Switzerland        306\n",
       "Israel             269\n",
       "Portugal           247\n",
       "Denmark            243\n",
       "Austria            234\n",
       "Finland            216\n",
       "Norway             216\n",
       "Russian            203\n",
       "Name: count, dtype: int64"
      ]
     },
     "execution_count": 50,
     "metadata": {},
     "output_type": "execute_result"
    }
   ],
   "source": [
    "df.Country.value_counts()"
   ]
  },
  {
   "cell_type": "code",
   "execution_count": 51,
   "id": "6a54fc34",
   "metadata": {},
   "outputs": [
    {
     "data": {
      "image/png": "[encoded data removed]",
      "text/plain": [
       "<Figure size 1200x700 with 1 Axes>"
      ]
     },
     "metadata": {},
     "output_type": "display_data"
    }
   ],
   "source": [
    "fig, ax = plt.subplots(1,1, figsize=(12, 7))\n",
    "df.boxplot('Salary', 'Country', ax=ax)\n",
    "plt.suptitle('Salary (US$) v Country')\n",
    "plt.title('')\n",
    "plt.ylabel('Salary')\n",
    "plt.xticks(rotation=90)\n",
    "plt.show()"
   ]
  },
  {
   "cell_type": "code",
   "execution_count": 52,
   "id": "476dd8da",
   "metadata": {},
   "outputs": [],
   "source": [
    "df = df[df['Salary'] <= 250000]\n",
    "df = df[df['Salary'] >= 10000]\n",
    "df = df[df['Country'] != 'Other']"
   ]
  },
  {
   "cell_type": "code",
   "execution_count": 53,
   "id": "f3566301",
   "metadata": {},
   "outputs": [
    {
     "data": {
      "image/png": "[encoded data removed]",
      "text/plain": [
       "<Figure size 1200x700 with 1 Axes>"
      ]
     },
     "metadata": {},
     "output_type": "display_data"
    }
   ],
   "source": [
    "fig, ax = plt.subplots(1, 1, figsize=(12, 7))\n",
    "df.boxplot('Salary', 'Country', ax = ax)\n",
    "plt.suptitle('Salary (US$) v Country')\n",
    "plt.title('')\n",
    "plt.ylabel('Salary')\n",
    "plt.xticks(rotation = 90)\n",
    "plt.show()"
   ]
  },
  {
   "cell_type": "code",
   "execution_count": 54,
   "id": "e80c3d4b",
   "metadata": {},
   "outputs": [],
   "source": [
    "#df.YearsCodePro.value_counts()"
   ]
  },
  {
   "cell_type": "code",
   "execution_count": 55,
   "id": "37ab4742",
   "metadata": {},
   "outputs": [],
   "source": [
    "def clear_experience(x):\n",
    "    if x == 'More than 50 years':\n",
    "        return 50\n",
    "    if x == 'Less than 1 year':\n",
    "        return 0.5\n",
    "    return float(x)\n",
    "\n",
    "df['YearsCodePro'] = df['YearsCodePro'].apply(clear_experience)"
   ]
  },
  {
   "cell_type": "code",
   "execution_count": 56,
   "id": "7e068036",
   "metadata": {},
   "outputs": [
    {
     "data": {
      "text/plain": [
       "['Bachelor’s degree (B.A., B.S., B.Eng., etc.)',\n",
       " 'Some college/university study without earning a degree',\n",
       " 'Master’s degree (M.A., M.S., M.Eng., MBA, etc.)',\n",
       " 'Associate degree (A.A., A.S., etc.)',\n",
       " 'Secondary school (e.g. American high school, German Realschule or Gymnasium, etc.)',\n",
       " 'Primary/elementary school',\n",
       " 'Professional degree (JD, MD, Ph.D, Ed.D, etc.)',\n",
       " 'Something else']"
      ]
     },
     "execution_count": 56,
     "metadata": {},
     "output_type": "execute_result"
    }
   ],
   "source": [
    "df['EdLevel'].unique().tolist()"
   ]
  },
  {
   "cell_type": "code",
   "execution_count": 57,
   "id": "b6347277",
   "metadata": {},
   "outputs": [],
   "source": [
    "def clean_education(x):\n",
    "    if 'Bachelor’s degree' in x:\n",
    "        return 'Bachelor’s degree'\n",
    "    if 'Master’s degree' in x:\n",
    "        return 'Master’s degree'\n",
    "    if 'Professional degree' in x or 'Other doctoral' in x:\n",
    "        return 'Post grad'\n",
    "    return 'Less than a Bachelors'\n",
    "\n",
    "df['EdLevel'] = df['EdLevel'].apply(clean_education)"
   ]
  },
  {
   "cell_type": "code",
   "execution_count": 58,
   "id": "16710611",
   "metadata": {},
   "outputs": [
    {
     "data": {
      "text/plain": [
       "['Bachelor’s degree', 'Less than a Bachelors', 'Master’s degree', 'Post grad']"
      ]
     },
     "execution_count": 58,
     "metadata": {},
     "output_type": "execute_result"
    }
   ],
   "source": [
    "df['EdLevel'].unique().tolist()"
   ]
  },
  {
   "cell_type": "code",
   "execution_count": 59,
   "id": "f7a4b25b",
   "metadata": {},
   "outputs": [
    {
     "data": {
      "text/html": [
       "<div>\n",
       "<style scoped>\n",
       "    .dataframe tbody tr th:only-of-type {\n",
       "        vertical-align: middle;\n",
       "    }\n",
       "\n",
       "    .dataframe tbody tr th {\n",
       "        vertical-align: top;\n",
       "    }\n",
       "\n",
       "    .dataframe thead th {\n",
       "        text-align: right;\n",
       "    }\n",
       "</style>\n",
       "<table border=\"1\" class=\"dataframe\">\n",
       "  <thead>\n",
       "    <tr style=\"text-align: right;\">\n",
       "      <th></th>\n",
       "      <th>Age</th>\n",
       "      <th>RemoteWork</th>\n",
       "      <th>EdLevel</th>\n",
       "      <th>YearsCodePro</th>\n",
       "      <th>Country</th>\n",
       "      <th>Industry</th>\n",
       "      <th>Salary</th>\n",
       "    </tr>\n",
       "  </thead>\n",
       "  <tbody>\n",
       "    <tr>\n",
       "      <th>2</th>\n",
       "      <td>45-54 years old</td>\n",
       "      <td>Hybrid (some remote, some in-person)</td>\n",
       "      <td>Bachelor’s degree</td>\n",
       "      <td>23.0</td>\n",
       "      <td>United States</td>\n",
       "      <td>Information Services, IT, Software Development...</td>\n",
       "      <td>250000.0</td>\n",
       "    </tr>\n",
       "    <tr>\n",
       "      <th>5</th>\n",
       "      <td>35-44 years old</td>\n",
       "      <td>Remote</td>\n",
       "      <td>Less than a Bachelors</td>\n",
       "      <td>21.0</td>\n",
       "      <td>United Kingdom</td>\n",
       "      <td>Other</td>\n",
       "      <td>96828.0</td>\n",
       "    </tr>\n",
       "    <tr>\n",
       "      <th>6</th>\n",
       "      <td>35-44 years old</td>\n",
       "      <td>Remote</td>\n",
       "      <td>Less than a Bachelors</td>\n",
       "      <td>3.0</td>\n",
       "      <td>United States</td>\n",
       "      <td>Information Services, IT, Software Development...</td>\n",
       "      <td>135000.0</td>\n",
       "    </tr>\n",
       "    <tr>\n",
       "      <th>7</th>\n",
       "      <td>25-34 years old</td>\n",
       "      <td>Remote</td>\n",
       "      <td>Bachelor’s degree</td>\n",
       "      <td>3.0</td>\n",
       "      <td>United States</td>\n",
       "      <td>Financial Services</td>\n",
       "      <td>80000.0</td>\n",
       "    </tr>\n",
       "    <tr>\n",
       "      <th>12</th>\n",
       "      <td>25-34 years old</td>\n",
       "      <td>Remote</td>\n",
       "      <td>Bachelor’s degree</td>\n",
       "      <td>9.0</td>\n",
       "      <td>United States</td>\n",
       "      <td>Other</td>\n",
       "      <td>75000.0</td>\n",
       "    </tr>\n",
       "    <tr>\n",
       "      <th>...</th>\n",
       "      <td>...</td>\n",
       "      <td>...</td>\n",
       "      <td>...</td>\n",
       "      <td>...</td>\n",
       "      <td>...</td>\n",
       "      <td>...</td>\n",
       "      <td>...</td>\n",
       "    </tr>\n",
       "    <tr>\n",
       "      <th>89154</th>\n",
       "      <td>35-44 years old</td>\n",
       "      <td>Hybrid (some remote, some in-person)</td>\n",
       "      <td>Bachelor’s degree</td>\n",
       "      <td>8.0</td>\n",
       "      <td>United States</td>\n",
       "      <td>Information Services, IT, Software Development...</td>\n",
       "      <td>75000.0</td>\n",
       "    </tr>\n",
       "    <tr>\n",
       "      <th>89156</th>\n",
       "      <td>25-34 years old</td>\n",
       "      <td>Remote</td>\n",
       "      <td>Bachelor’s degree</td>\n",
       "      <td>8.0</td>\n",
       "      <td>United States</td>\n",
       "      <td>Information Services, IT, Software Development...</td>\n",
       "      <td>195000.0</td>\n",
       "    </tr>\n",
       "    <tr>\n",
       "      <th>89162</th>\n",
       "      <td>35-44 years old</td>\n",
       "      <td>Remote</td>\n",
       "      <td>Master’s degree</td>\n",
       "      <td>24.0</td>\n",
       "      <td>Brazil</td>\n",
       "      <td>Information Services, IT, Software Development...</td>\n",
       "      <td>50719.0</td>\n",
       "    </tr>\n",
       "    <tr>\n",
       "      <th>89167</th>\n",
       "      <td>18-24 years old</td>\n",
       "      <td>Remote</td>\n",
       "      <td>Bachelor’s degree</td>\n",
       "      <td>2.0</td>\n",
       "      <td>India</td>\n",
       "      <td>Retail and Consumer Services</td>\n",
       "      <td>15752.0</td>\n",
       "    </tr>\n",
       "    <tr>\n",
       "      <th>89170</th>\n",
       "      <td>25-34 years old</td>\n",
       "      <td>Hybrid (some remote, some in-person)</td>\n",
       "      <td>Master’s degree</td>\n",
       "      <td>9.0</td>\n",
       "      <td>France</td>\n",
       "      <td>Other</td>\n",
       "      <td>64254.0</td>\n",
       "    </tr>\n",
       "  </tbody>\n",
       "</table>\n",
       "<p>17228 rows × 7 columns</p>\n",
       "</div>"
      ],
      "text/plain": [
       "                   Age                            RemoteWork  \\\n",
       "2      45-54 years old  Hybrid (some remote, some in-person)   \n",
       "5      35-44 years old                                Remote   \n",
       "6      35-44 years old                                Remote   \n",
       "7      25-34 years old                                Remote   \n",
       "12     25-34 years old                                Remote   \n",
       "...                ...                                   ...   \n",
       "89154  35-44 years old  Hybrid (some remote, some in-person)   \n",
       "89156  25-34 years old                                Remote   \n",
       "89162  35-44 years old                                Remote   \n",
       "89167  18-24 years old                                Remote   \n",
       "89170  25-34 years old  Hybrid (some remote, some in-person)   \n",
       "\n",
       "                     EdLevel  YearsCodePro         Country  \\\n",
       "2          Bachelor’s degree          23.0   United States   \n",
       "5      Less than a Bachelors          21.0  United Kingdom   \n",
       "6      Less than a Bachelors           3.0   United States   \n",
       "7          Bachelor’s degree           3.0   United States   \n",
       "12         Bachelor’s degree           9.0   United States   \n",
       "...                      ...           ...             ...   \n",
       "89154      Bachelor’s degree           8.0   United States   \n",
       "89156      Bachelor’s degree           8.0   United States   \n",
       "89162        Master’s degree          24.0          Brazil   \n",
       "89167      Bachelor’s degree           2.0           India   \n",
       "89170        Master’s degree           9.0          France   \n",
       "\n",
       "                                                Industry    Salary  \n",
       "2      Information Services, IT, Software Development...  250000.0  \n",
       "5                                                  Other   96828.0  \n",
       "6      Information Services, IT, Software Development...  135000.0  \n",
       "7                                     Financial Services   80000.0  \n",
       "12                                                 Other   75000.0  \n",
       "...                                                  ...       ...  \n",
       "89154  Information Services, IT, Software Development...   75000.0  \n",
       "89156  Information Services, IT, Software Development...  195000.0  \n",
       "89162  Information Services, IT, Software Development...   50719.0  \n",
       "89167                       Retail and Consumer Services   15752.0  \n",
       "89170                                              Other   64254.0  \n",
       "\n",
       "[17228 rows x 7 columns]"
      ]
     },
     "execution_count": 59,
     "metadata": {},
     "output_type": "execute_result"
    }
   ],
   "source": [
    "df"
   ]
  },
  {
   "cell_type": "code",
   "execution_count": 60,
   "id": "15f87980",
   "metadata": {},
   "outputs": [
    {
     "data": {
      "text/plain": [
       "RemoteWork\n",
       "Hybrid (some remote, some in-person)    7887\n",
       "Remote                                  7188\n",
       "In-person                               2153\n",
       "Name: count, dtype: int64"
      ]
     },
     "execution_count": 60,
     "metadata": {},
     "output_type": "execute_result"
    }
   ],
   "source": [
    "df.RemoteWork.value_counts()"
   ]
  },
  {
   "cell_type": "code",
   "execution_count": 61,
   "id": "a9cfeaec",
   "metadata": {},
   "outputs": [],
   "source": [
    "df['RemoteWork'] = df.RemoteWork.replace('Hybrid (some remote, some in-person)', 'Hybrid')"
   ]
  },
  {
   "cell_type": "code",
   "execution_count": 62,
   "id": "929d6912",
   "metadata": {},
   "outputs": [
    {
     "data": {
      "text/plain": [
       "Industry\n",
       "Information Services, IT, Software Development, or other Technology    7765\n",
       "Financial Services                                                     2067\n",
       "Other                                                                  2060\n",
       "Manufacturing, Transportation, or Supply Chain                         1371\n",
       "Healthcare                                                             1194\n",
       "Retail and Consumer Services                                           1042\n",
       "Higher Education                                                        606\n",
       "Insurance                                                               410\n",
       "Advertising Services                                                    383\n",
       "Oil & Gas                                                               139\n",
       "Legal Services                                                          114\n",
       "Wholesale                                                                77\n",
       "Name: count, dtype: int64"
      ]
     },
     "execution_count": 62,
     "metadata": {},
     "output_type": "execute_result"
    }
   ],
   "source": [
    "df.Industry.value_counts()"
   ]
  },
  {
   "cell_type": "code",
   "execution_count": 63,
   "id": "08b07a90",
   "metadata": {},
   "outputs": [],
   "source": [
    "df['Industry'] = df.Industry.replace('Information Services, IT, Software Development, or other Technology', 'IT, Software Development, Technology')\n",
    "df['Industry'] = df.Industry.replace('Manufacturing, Transportation, or Supply Chain', 'Manufacturing, Transportation, Supply')"
   ]
  },
  {
   "cell_type": "code",
   "execution_count": 64,
   "id": "4582991e",
   "metadata": {},
   "outputs": [
    {
     "data": {
      "text/plain": [
       "Age\n",
       "25-34 years old       8184\n",
       "35-44 years old       5094\n",
       "45-54 years old       1664\n",
       "18-24 years old       1626\n",
       "55-64 years old        573\n",
       "65 years or older       73\n",
       "Prefer not to say        9\n",
       "Under 18 years old       5\n",
       "Name: count, dtype: int64"
      ]
     },
     "execution_count": 64,
     "metadata": {},
     "output_type": "execute_result"
    }
   ],
   "source": [
    "df.Age.value_counts()"
   ]
  },
  {
   "cell_type": "code",
   "execution_count": 65,
   "id": "cb6e0995",
   "metadata": {},
   "outputs": [],
   "source": [
    "df = df[df.Age != 'Prefer not to say']\n",
    "df = df[df.Age != 'Under 18 years old']"
   ]
  },
  {
   "cell_type": "code",
   "execution_count": 66,
   "id": "46d82dbe",
   "metadata": {},
   "outputs": [
    {
     "data": {
      "text/html": [
       "<div>\n",
       "<style scoped>\n",
       "    .dataframe tbody tr th:only-of-type {\n",
       "        vertical-align: middle;\n",
       "    }\n",
       "\n",
       "    .dataframe tbody tr th {\n",
       "        vertical-align: top;\n",
       "    }\n",
       "\n",
       "    .dataframe thead th {\n",
       "        text-align: right;\n",
       "    }\n",
       "</style>\n",
       "<table border=\"1\" class=\"dataframe\">\n",
       "  <thead>\n",
       "    <tr style=\"text-align: right;\">\n",
       "      <th></th>\n",
       "      <th>Age</th>\n",
       "      <th>RemoteWork</th>\n",
       "      <th>EdLevel</th>\n",
       "      <th>YearsCodePro</th>\n",
       "      <th>Country</th>\n",
       "      <th>Industry</th>\n",
       "      <th>Salary</th>\n",
       "    </tr>\n",
       "  </thead>\n",
       "  <tbody>\n",
       "    <tr>\n",
       "      <th>2</th>\n",
       "      <td>45-54 years old</td>\n",
       "      <td>Hybrid</td>\n",
       "      <td>Bachelor’s degree</td>\n",
       "      <td>23.0</td>\n",
       "      <td>United States</td>\n",
       "      <td>IT, Software Development, Technology</td>\n",
       "      <td>250000.0</td>\n",
       "    </tr>\n",
       "    <tr>\n",
       "      <th>5</th>\n",
       "      <td>35-44 years old</td>\n",
       "      <td>Remote</td>\n",
       "      <td>Less than a Bachelors</td>\n",
       "      <td>21.0</td>\n",
       "      <td>United Kingdom</td>\n",
       "      <td>Other</td>\n",
       "      <td>96828.0</td>\n",
       "    </tr>\n",
       "    <tr>\n",
       "      <th>6</th>\n",
       "      <td>35-44 years old</td>\n",
       "      <td>Remote</td>\n",
       "      <td>Less than a Bachelors</td>\n",
       "      <td>3.0</td>\n",
       "      <td>United States</td>\n",
       "      <td>IT, Software Development, Technology</td>\n",
       "      <td>135000.0</td>\n",
       "    </tr>\n",
       "    <tr>\n",
       "      <th>7</th>\n",
       "      <td>25-34 years old</td>\n",
       "      <td>Remote</td>\n",
       "      <td>Bachelor’s degree</td>\n",
       "      <td>3.0</td>\n",
       "      <td>United States</td>\n",
       "      <td>Financial Services</td>\n",
       "      <td>80000.0</td>\n",
       "    </tr>\n",
       "    <tr>\n",
       "      <th>12</th>\n",
       "      <td>25-34 years old</td>\n",
       "      <td>Remote</td>\n",
       "      <td>Bachelor’s degree</td>\n",
       "      <td>9.0</td>\n",
       "      <td>United States</td>\n",
       "      <td>Other</td>\n",
       "      <td>75000.0</td>\n",
       "    </tr>\n",
       "    <tr>\n",
       "      <th>...</th>\n",
       "      <td>...</td>\n",
       "      <td>...</td>\n",
       "      <td>...</td>\n",
       "      <td>...</td>\n",
       "      <td>...</td>\n",
       "      <td>...</td>\n",
       "      <td>...</td>\n",
       "    </tr>\n",
       "    <tr>\n",
       "      <th>89154</th>\n",
       "      <td>35-44 years old</td>\n",
       "      <td>Hybrid</td>\n",
       "      <td>Bachelor’s degree</td>\n",
       "      <td>8.0</td>\n",
       "      <td>United States</td>\n",
       "      <td>IT, Software Development, Technology</td>\n",
       "      <td>75000.0</td>\n",
       "    </tr>\n",
       "    <tr>\n",
       "      <th>89156</th>\n",
       "      <td>25-34 years old</td>\n",
       "      <td>Remote</td>\n",
       "      <td>Bachelor’s degree</td>\n",
       "      <td>8.0</td>\n",
       "      <td>United States</td>\n",
       "      <td>IT, Software Development, Technology</td>\n",
       "      <td>195000.0</td>\n",
       "    </tr>\n",
       "    <tr>\n",
       "      <th>89162</th>\n",
       "      <td>35-44 years old</td>\n",
       "      <td>Remote</td>\n",
       "      <td>Master’s degree</td>\n",
       "      <td>24.0</td>\n",
       "      <td>Brazil</td>\n",
       "      <td>IT, Software Development, Technology</td>\n",
       "      <td>50719.0</td>\n",
       "    </tr>\n",
       "    <tr>\n",
       "      <th>89167</th>\n",
       "      <td>18-24 years old</td>\n",
       "      <td>Remote</td>\n",
       "      <td>Bachelor’s degree</td>\n",
       "      <td>2.0</td>\n",
       "      <td>India</td>\n",
       "      <td>Retail and Consumer Services</td>\n",
       "      <td>15752.0</td>\n",
       "    </tr>\n",
       "    <tr>\n",
       "      <th>89170</th>\n",
       "      <td>25-34 years old</td>\n",
       "      <td>Hybrid</td>\n",
       "      <td>Master’s degree</td>\n",
       "      <td>9.0</td>\n",
       "      <td>France</td>\n",
       "      <td>Other</td>\n",
       "      <td>64254.0</td>\n",
       "    </tr>\n",
       "  </tbody>\n",
       "</table>\n",
       "<p>17214 rows × 7 columns</p>\n",
       "</div>"
      ],
      "text/plain": [
       "                   Age RemoteWork                EdLevel  YearsCodePro  \\\n",
       "2      45-54 years old     Hybrid      Bachelor’s degree          23.0   \n",
       "5      35-44 years old     Remote  Less than a Bachelors          21.0   \n",
       "6      35-44 years old     Remote  Less than a Bachelors           3.0   \n",
       "7      25-34 years old     Remote      Bachelor’s degree           3.0   \n",
       "12     25-34 years old     Remote      Bachelor’s degree           9.0   \n",
       "...                ...        ...                    ...           ...   \n",
       "89154  35-44 years old     Hybrid      Bachelor’s degree           8.0   \n",
       "89156  25-34 years old     Remote      Bachelor’s degree           8.0   \n",
       "89162  35-44 years old     Remote        Master’s degree          24.0   \n",
       "89167  18-24 years old     Remote      Bachelor’s degree           2.0   \n",
       "89170  25-34 years old     Hybrid        Master’s degree           9.0   \n",
       "\n",
       "              Country                              Industry    Salary  \n",
       "2       United States  IT, Software Development, Technology  250000.0  \n",
       "5      United Kingdom                                 Other   96828.0  \n",
       "6       United States  IT, Software Development, Technology  135000.0  \n",
       "7       United States                    Financial Services   80000.0  \n",
       "12      United States                                 Other   75000.0  \n",
       "...               ...                                   ...       ...  \n",
       "89154   United States  IT, Software Development, Technology   75000.0  \n",
       "89156   United States  IT, Software Development, Technology  195000.0  \n",
       "89162          Brazil  IT, Software Development, Technology   50719.0  \n",
       "89167           India          Retail and Consumer Services   15752.0  \n",
       "89170          France                                 Other   64254.0  \n",
       "\n",
       "[17214 rows x 7 columns]"
      ]
     },
     "execution_count": 66,
     "metadata": {},
     "output_type": "execute_result"
    }
   ],
   "source": [
    "df"
   ]
  },
  {
   "cell_type": "code",
   "execution_count": 67,
   "id": "fa1d2c5d",
   "metadata": {},
   "outputs": [
    {
     "data": {
      "text/plain": [
       "array([3, 2, 1, 4, 0, 5])"
      ]
     },
     "execution_count": 67,
     "metadata": {},
     "output_type": "execute_result"
    }
   ],
   "source": [
    "le_age = LabelEncoder()\n",
    "df['Age'] = le_age.fit_transform(df['Age'])\n",
    "df.Age.unique()"
   ]
  },
  {
   "cell_type": "code",
   "execution_count": 68,
   "id": "a7829cd3",
   "metadata": {},
   "outputs": [
    {
     "data": {
      "text/plain": [
       "array([0, 2, 1])"
      ]
     },
     "execution_count": 68,
     "metadata": {},
     "output_type": "execute_result"
    }
   ],
   "source": [
    "le_work = LabelEncoder()\n",
    "df['RemoteWork'] = le_work.fit_transform(df['RemoteWork'])\n",
    "df.RemoteWork.unique()"
   ]
  },
  {
   "cell_type": "code",
   "execution_count": 69,
   "id": "0c833c97",
   "metadata": {},
   "outputs": [
    {
     "data": {
      "text/plain": [
       "array([0, 1, 2, 3])"
      ]
     },
     "execution_count": 69,
     "metadata": {},
     "output_type": "execute_result"
    }
   ],
   "source": [
    "le_education = LabelEncoder()\n",
    "df['EdLevel'] = le_education.fit_transform(df['EdLevel'])\n",
    "df.EdLevel.unique()"
   ]
  },
  {
   "cell_type": "code",
   "execution_count": 70,
   "id": "656d149e",
   "metadata": {},
   "outputs": [
    {
     "data": {
      "text/plain": [
       "array([20, 19, 11,  7,  6, 16, 10,  3, 18,  2, 12,  8,  5, 14,  1, 17,  4,\n",
       "       15,  9, 13,  0])"
      ]
     },
     "execution_count": 70,
     "metadata": {},
     "output_type": "execute_result"
    }
   ],
   "source": [
    "le_country = LabelEncoder()\n",
    "df['Country'] = le_country.fit_transform(df['Country'])\n",
    "df.Country.unique()"
   ]
  },
  {
   "cell_type": "code",
   "execution_count": 71,
   "id": "99b018d3",
   "metadata": {},
   "outputs": [
    {
     "data": {
      "text/plain": [
       "array([ 4,  9,  1,  7, 10,  3,  5,  2,  8, 11,  6,  0])"
      ]
     },
     "execution_count": 71,
     "metadata": {},
     "output_type": "execute_result"
    }
   ],
   "source": [
    "le_industry = LabelEncoder()\n",
    "df['Industry'] = le_industry.fit_transform(df['Industry'])\n",
    "df.Industry.unique()"
   ]
  },
  {
   "cell_type": "markdown",
   "id": "307fb855",
   "metadata": {},
   "source": [
    "# Model"
   ]
  },
  {
   "cell_type": "code",
   "execution_count": 72,
   "id": "7de9b4ef",
   "metadata": {},
   "outputs": [],
   "source": [
    "X, y = df.drop('Salary', axis=1), df['Salary']"
   ]
  },
  {
   "cell_type": "code",
   "execution_count": 73,
   "id": "64139bff",
   "metadata": {},
   "outputs": [
    {
     "data": {
      "text/html": [
       "<div>\n",
       "<style scoped>\n",
       "    .dataframe tbody tr th:only-of-type {\n",
       "        vertical-align: middle;\n",
       "    }\n",
       "\n",
       "    .dataframe tbody tr th {\n",
       "        vertical-align: top;\n",
       "    }\n",
       "\n",
       "    .dataframe thead th {\n",
       "        text-align: right;\n",
       "    }\n",
       "</style>\n",
       "<table border=\"1\" class=\"dataframe\">\n",
       "  <thead>\n",
       "    <tr style=\"text-align: right;\">\n",
       "      <th></th>\n",
       "      <th>Age</th>\n",
       "      <th>RemoteWork</th>\n",
       "      <th>EdLevel</th>\n",
       "      <th>YearsCodePro</th>\n",
       "      <th>Country</th>\n",
       "      <th>Industry</th>\n",
       "    </tr>\n",
       "  </thead>\n",
       "  <tbody>\n",
       "    <tr>\n",
       "      <th>2</th>\n",
       "      <td>3</td>\n",
       "      <td>0</td>\n",
       "      <td>0</td>\n",
       "      <td>23.0</td>\n",
       "      <td>20</td>\n",
       "      <td>4</td>\n",
       "    </tr>\n",
       "    <tr>\n",
       "      <th>5</th>\n",
       "      <td>2</td>\n",
       "      <td>2</td>\n",
       "      <td>1</td>\n",
       "      <td>21.0</td>\n",
       "      <td>19</td>\n",
       "      <td>9</td>\n",
       "    </tr>\n",
       "    <tr>\n",
       "      <th>6</th>\n",
       "      <td>2</td>\n",
       "      <td>2</td>\n",
       "      <td>1</td>\n",
       "      <td>3.0</td>\n",
       "      <td>20</td>\n",
       "      <td>4</td>\n",
       "    </tr>\n",
       "    <tr>\n",
       "      <th>7</th>\n",
       "      <td>1</td>\n",
       "      <td>2</td>\n",
       "      <td>0</td>\n",
       "      <td>3.0</td>\n",
       "      <td>20</td>\n",
       "      <td>1</td>\n",
       "    </tr>\n",
       "    <tr>\n",
       "      <th>12</th>\n",
       "      <td>1</td>\n",
       "      <td>2</td>\n",
       "      <td>0</td>\n",
       "      <td>9.0</td>\n",
       "      <td>20</td>\n",
       "      <td>9</td>\n",
       "    </tr>\n",
       "    <tr>\n",
       "      <th>...</th>\n",
       "      <td>...</td>\n",
       "      <td>...</td>\n",
       "      <td>...</td>\n",
       "      <td>...</td>\n",
       "      <td>...</td>\n",
       "      <td>...</td>\n",
       "    </tr>\n",
       "    <tr>\n",
       "      <th>89154</th>\n",
       "      <td>2</td>\n",
       "      <td>0</td>\n",
       "      <td>0</td>\n",
       "      <td>8.0</td>\n",
       "      <td>20</td>\n",
       "      <td>4</td>\n",
       "    </tr>\n",
       "    <tr>\n",
       "      <th>89156</th>\n",
       "      <td>1</td>\n",
       "      <td>2</td>\n",
       "      <td>0</td>\n",
       "      <td>8.0</td>\n",
       "      <td>20</td>\n",
       "      <td>4</td>\n",
       "    </tr>\n",
       "    <tr>\n",
       "      <th>89162</th>\n",
       "      <td>2</td>\n",
       "      <td>2</td>\n",
       "      <td>2</td>\n",
       "      <td>24.0</td>\n",
       "      <td>2</td>\n",
       "      <td>4</td>\n",
       "    </tr>\n",
       "    <tr>\n",
       "      <th>89167</th>\n",
       "      <td>0</td>\n",
       "      <td>2</td>\n",
       "      <td>0</td>\n",
       "      <td>2.0</td>\n",
       "      <td>8</td>\n",
       "      <td>10</td>\n",
       "    </tr>\n",
       "    <tr>\n",
       "      <th>89170</th>\n",
       "      <td>1</td>\n",
       "      <td>0</td>\n",
       "      <td>2</td>\n",
       "      <td>9.0</td>\n",
       "      <td>6</td>\n",
       "      <td>9</td>\n",
       "    </tr>\n",
       "  </tbody>\n",
       "</table>\n",
       "<p>17214 rows × 6 columns</p>\n",
       "</div>"
      ],
      "text/plain": [
       "       Age  RemoteWork  EdLevel  YearsCodePro  Country  Industry\n",
       "2        3           0        0          23.0       20         4\n",
       "5        2           2        1          21.0       19         9\n",
       "6        2           2        1           3.0       20         4\n",
       "7        1           2        0           3.0       20         1\n",
       "12       1           2        0           9.0       20         9\n",
       "...    ...         ...      ...           ...      ...       ...\n",
       "89154    2           0        0           8.0       20         4\n",
       "89156    1           2        0           8.0       20         4\n",
       "89162    2           2        2          24.0        2         4\n",
       "89167    0           2        0           2.0        8        10\n",
       "89170    1           0        2           9.0        6         9\n",
       "\n",
       "[17214 rows x 6 columns]"
      ]
     },
     "execution_count": 73,
     "metadata": {},
     "output_type": "execute_result"
    }
   ],
   "source": [
    "X"
   ]
  },
  {
   "cell_type": "code",
   "execution_count": 74,
   "id": "a34c4bf6",
   "metadata": {},
   "outputs": [
    {
     "name": "stdout",
     "output_type": "stream",
     "text": [
      "$45,768.87\n"
     ]
    }
   ],
   "source": [
    "linear_reg = LinearRegression()\n",
    "linear_reg.fit(X, y.values)\n",
    "\n",
    "y_pred = linear_reg.predict(X)\n",
    "\n",
    "error = np.sqrt(mean_squared_error(y, y_pred))\n",
    "print(\"${:,.02f}\".format(error))"
   ]
  },
  {
   "cell_type": "code",
   "execution_count": 75,
   "id": "e54c4cb0",
   "metadata": {},
   "outputs": [
    {
     "name": "stdout",
     "output_type": "stream",
     "text": [
      "$20,899.57\n"
     ]
    }
   ],
   "source": [
    "dec_tree_reg = DecisionTreeRegressor(random_state=0)\n",
    "dec_tree_reg.fit(X, y.values)\n",
    "\n",
    "y_pred = dec_tree_reg.predict(X)\n",
    "\n",
    "error = np.sqrt(mean_squared_error(y, y_pred))\n",
    "print(\"${:,.02f}\".format(error))"
   ]
  },
  {
   "cell_type": "code",
   "execution_count": 76,
   "id": "39b86bda",
   "metadata": {},
   "outputs": [
    {
     "name": "stdout",
     "output_type": "stream",
     "text": [
      "$22,785.09\n"
     ]
    }
   ],
   "source": [
    "random_forest_reg = RandomForestRegressor(random_state=0)\n",
    "random_forest_reg.fit(X, y.values)\n",
    "\n",
    "y_pred = random_forest_reg.predict(X)\n",
    "\n",
    "error = np.sqrt(mean_squared_error(y, y_pred))\n",
    "print(\"${:,.02f}\".format(error))"
   ]
  },
  {
   "cell_type": "code",
   "execution_count": 77,
   "id": "fa53f915",
   "metadata": {},
   "outputs": [
    {
     "data": {
      "text/plain": [
       "['Age', 'RemoteWork', 'EdLevel', 'YearsCodePro', 'Country', 'Industry']"
      ]
     },
     "execution_count": 77,
     "metadata": {},
     "output_type": "execute_result"
    }
   ],
   "source": [
    "X.columns.tolist()"
   ]
  },
  {
   "cell_type": "code",
   "execution_count": 78,
   "id": "4bbc8c7d",
   "metadata": {},
   "outputs": [
    {
     "data": {
      "text/plain": [
       "array([['18-24 years old', 'Remote', 'Master’s degree', '2', 'Germany',\n",
       "        'Healthcare']], dtype='<U21')"
      ]
     },
     "execution_count": 78,
     "metadata": {},
     "output_type": "execute_result"
    }
   ],
   "source": [
    "X = np.array([[\"18-24 years old\",  \"Remote\",'Master’s degree', 2, \"Germany\", \"Healthcare\"]])\n",
    "X"
   ]
  },
  {
   "cell_type": "code",
   "execution_count": 79,
   "id": "274cff59",
   "metadata": {},
   "outputs": [
    {
     "data": {
      "text/plain": [
       "array([[0., 2., 2., 2., 7., 2.]])"
      ]
     },
     "execution_count": 79,
     "metadata": {},
     "output_type": "execute_result"
    }
   ],
   "source": [
    "X[:, 0] = le_age.transform(X[:,0])\n",
    "X[:, 1] = le_work.transform(X[:,1])\n",
    "X[:, 2] = le_education.transform(X[:,2])\n",
    "X[:, 4] = le_country.transform(X[:,4])\n",
    "X[:, 5] = le_industry.transform(X[:,5])\n",
    "X = X.astype(float)\n",
    "X"
   ]
  },
  {
   "cell_type": "code",
   "execution_count": 80,
   "id": "640b0794",
   "metadata": {},
   "outputs": [
    {
     "data": {
      "text/plain": [
       "array([77104.])"
      ]
     },
     "execution_count": 80,
     "metadata": {},
     "output_type": "execute_result"
    }
   ],
   "source": [
    "y_pred = dec_tree_reg.predict(X)\n",
    "y_pred"
   ]
  },
  {
   "cell_type": "code",
   "execution_count": 81,
   "id": "e9be3b01",
   "metadata": {},
   "outputs": [],
   "source": [
    "data = {\"model\": dec_tree_reg, \"le_age\": le_age, \"le_work\":le_work, \"le_education\": le_education, \"le_country\": le_country, \"le_industry\": le_industry}\n",
    "with open('model_steps.pkl', 'wb') as file:\n",
    "    pickle.dump(data, file)"
   ]
  },
  {
   "cell_type": "code",
   "execution_count": 82,
   "id": "c7bbd147",
   "metadata": {},
   "outputs": [],
   "source": [
    "with open('model_steps.pkl', 'rb') as file:\n",
    "    data = pickle.load(file)\n",
    "    \n",
    "regressor_loaded = data['model']\n",
    "le_age = data['le_age']\n",
    "le_work = data['le_work']\n",
    "le_education = data['le_education']\n",
    "le_country = data['le_country']\n",
    "le_industry = data['le_industry']"
   ]
  },
  {
   "cell_type": "code",
   "execution_count": 83,
   "id": "443ef230",
   "metadata": {},
   "outputs": [
    {
     "data": {
      "text/plain": [
       "array([77104.])"
      ]
     },
     "execution_count": 83,
     "metadata": {},
     "output_type": "execute_result"
    }
   ],
   "source": [
    "y_pred = regressor_loaded.predict(X)\n",
    "y_pred"
   ]
  },
  {
   "cell_type": "code",
   "execution_count": null,
   "id": "31add159",
   "metadata": {},
   "outputs": [],
   "source": []
  }
 ],
 "metadata": {
  "kernelspec": {
   "display_name": "Python 3 (ipykernel)",
   "language": "python",
   "name": "python3"
  },
  "language_info": {
   "codemirror_mode": {
    "name": "ipython",
    "version": 3
   },
   "file_extension": ".py",
   "mimetype": "text/x-python",
   "name": "python",
   "nbconvert_exporter": "python",
   "pygments_lexer": "ipython3",
   "version": "3.11.4"
  }
 },
 "nbformat": 4,
 "nbformat_minor": 5
}
